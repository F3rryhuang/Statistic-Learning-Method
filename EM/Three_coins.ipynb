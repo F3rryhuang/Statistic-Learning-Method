{
 "cells": [
  {
   "cell_type": "code",
   "execution_count": 124,
   "metadata": {},
   "outputs": [],
   "source": [
    "import numpy as np\n",
    "import math"
   ]
  },
  {
   "cell_type": "code",
   "execution_count": 125,
   "metadata": {},
   "outputs": [],
   "source": [
    "def zero_one_prob(out, prob):\n",
    "    \"\"\"\n",
    "        Params: out - 0 / 1\n",
    "                probs - probability yield 1\n",
    "        Yields: probs out happens\n",
    "    \"\"\"\n",
    "    return prob ** out * (1 - prob) ** (1 - out)"
   ]
  },
  {
   "cell_type": "code",
   "execution_count": 126,
   "metadata": {},
   "outputs": [
    {
     "data": {
      "text/plain": [
       "0.5"
      ]
     },
     "execution_count": 126,
     "metadata": {},
     "output_type": "execute_result"
    }
   ],
   "source": [
    "zero_one_prob(0, 0.5)"
   ]
  },
  {
   "cell_type": "code",
   "execution_count": 127,
   "metadata": {},
   "outputs": [],
   "source": [
    "def Expectation(pi, p, q, y):\n",
    "    \"\"\"\n",
    "        Params: pi for probability first coin yields positive, p for sec.,  q for third\n",
    "                y: list containing outcomes\n",
    "        Yields: list containing probs that outcome comes from the sec coin.\n",
    "    \"\"\"\n",
    "    probs = []\n",
    "    for o in y:\n",
    "        prob = pi * zero_one_prob(o, p) / (pi * zero_one_prob(o, p) + (1 - pi) * zero_one_prob(o, q))\n",
    "        probs.append(prob)\n",
    "\n",
    "    return probs"
   ]
  },
  {
   "cell_type": "code",
   "execution_count": 128,
   "metadata": {},
   "outputs": [
    {
     "name": "stdout",
     "output_type": "stream",
     "text": [
      "[0.0, 0.0, 1.0, 0.0, 1.0]\n",
      "\n"
     ]
    }
   ],
   "source": [
    "print(Expectation(0.5, 0, 1, [1, 1, 0, 1, 0]))\n",
    "print()"
   ]
  },
  {
   "cell_type": "code",
   "execution_count": 129,
   "metadata": {},
   "outputs": [],
   "source": [
    "def Maximization(probs, y):\n",
    "    \"\"\"\n",
    "        Params: probs - yield by E-step\n",
    "                    y - outcomes\n",
    "        Yield: pi, p, q after one maximization iteyration\n",
    "    \"\"\"\n",
    "    probs, y = np.array(probs), np.array(y)\n",
    "    pi = np.mean(probs)\n",
    "    p = np.mean(probs * y)/ np.mean(probs)\n",
    "    q = np.mean((1 - probs) * y) / np.mean(1 - probs)\n",
    "\n",
    "    return pi, p, q"
   ]
  },
  {
   "cell_type": "code",
   "execution_count": 130,
   "metadata": {},
   "outputs": [
    {
     "data": {
      "text/plain": [
       "(0.4, 0.0, 1.0)"
      ]
     },
     "execution_count": 130,
     "metadata": {},
     "output_type": "execute_result"
    }
   ],
   "source": [
    "Maximization([0.0, 0.0, 1.0, 0.0, 1.0], [1, 1, 0, 1, 0])"
   ]
  },
  {
   "cell_type": "code",
   "execution_count": 131,
   "metadata": {},
   "outputs": [],
   "source": [
    "def EM(pi, p, q, y, epsilon = 1e-4):\n",
    "    hist = [(pi, p, q)]\n",
    "    for i in range(10):\n",
    "        probs = Expectation(pi, p, q, y)\n",
    "        pi, p, q = Maximization(probs, y)\n",
    "        if np.abs(np.array((pi, p, q)) - np.array(hist[-1])).max() < epsilon:\n",
    "            break\n",
    "        hist.append((pi, p, q))\n",
    "    return hist"
   ]
  },
  {
   "cell_type": "code",
   "execution_count": 132,
   "metadata": {},
   "outputs": [
    {
     "data": {
      "text/plain": [
       "[(0.46, 0.55, 0.67),\n",
       " (0.461862835113919, 0.5345950037850112, 0.6561346417857326)]"
      ]
     },
     "execution_count": 132,
     "metadata": {},
     "output_type": "execute_result"
    }
   ],
   "source": [
    "hist = EM(0.46, 0.55, 0.67, [1, 1, 0, 1, 0, 0, 1, 0, 1, 1])\n",
    "hist"
   ]
  },
  {
   "cell_type": "code",
   "execution_count": null,
   "metadata": {},
   "outputs": [],
   "source": []
  }
 ],
 "metadata": {
  "interpreter": {
   "hash": "17a4f45de6685bf2d7d98c34a7ba04dade22de544eeee89dbc392458e8a9b46d"
  },
  "kernelspec": {
   "display_name": "Python 3.8.3 64-bit ('tensorflow': conda)",
   "name": "python3"
  },
  "language_info": {
   "codemirror_mode": {
    "name": "ipython",
    "version": 3
   },
   "file_extension": ".py",
   "mimetype": "text/x-python",
   "name": "python",
   "nbconvert_exporter": "python",
   "pygments_lexer": "ipython3",
   "version": "3.8.3"
  },
  "orig_nbformat": 4
 },
 "nbformat": 4,
 "nbformat_minor": 2
}