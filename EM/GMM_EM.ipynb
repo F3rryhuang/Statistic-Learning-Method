{
 "metadata": {
  "language_info": {
   "codemirror_mode": {
    "name": "ipython",
    "version": 3
   },
   "file_extension": ".py",
   "mimetype": "text/x-python",
   "name": "python",
   "nbconvert_exporter": "python",
   "pygments_lexer": "ipython3",
   "version": "3.8.3"
  },
  "orig_nbformat": 4,
  "kernelspec": {
   "name": "python3",
   "display_name": "Python 3.8.3 64-bit ('tensorflow': conda)"
  },
  "interpreter": {
   "hash": "17a4f45de6685bf2d7d98c34a7ba04dade22de544eeee89dbc392458e8a9b46d"
  }
 },
 "nbformat": 4,
 "nbformat_minor": 2,
 "cells": [
  {
   "cell_type": "code",
   "execution_count": 188,
   "metadata": {},
   "outputs": [],
   "source": [
    "import numpy as np\n",
    "import math\n",
    "PI = math.pi"
   ]
  },
  {
   "cell_type": "code",
   "execution_count": 189,
   "metadata": {},
   "outputs": [],
   "source": [
    "def init_GMM(K):\n",
    "    \"\"\"\n",
    "        k - k models\n",
    "    \"\"\"\n",
    "    parameters = {}\n",
    "    parameters['alpha'] = np.random.dirichlet((1, 1), 1)\n",
    "    parameters['mean'] = np.random.rand(K), \n",
    "    parameters['variance'] = np.random.rand(K, )\n",
    "\n",
    "    return parameters"
   ]
  },
  {
   "cell_type": "code",
   "execution_count": 190,
   "metadata": {},
   "outputs": [],
   "source": [
    "def tile(y, K):\n",
    "    return np.tile(y, (1, K))"
   ]
  },
  {
   "cell_type": "code",
   "execution_count": 191,
   "metadata": {},
   "outputs": [],
   "source": [
    "def Gaussian_func(y, mean, var):\n",
    "    \"\"\"\n",
    "        Params: y - array of outcomes                [N, ]\n",
    "                mean - array of mean of K models       [K, ]\n",
    "                var - array of variance of K models    [K, ]\n",
    "    \"\"\"\n",
    "    N = len(y)\n",
    "    K = len(mean)\n",
    "    y = y.reshape(N, 1)\n",
    "    y_tiled = tile(y, K)\n",
    "\n",
    "\n",
    "    exponent = np.exp(-(y_tiled - mean)**2 / (2 * var))\n",
    "    return exponent / (np.sqrt(2 * PI * var))"
   ]
  },
  {
   "cell_type": "code",
   "execution_count": 192,
   "metadata": {},
   "outputs": [
    {
     "output_type": "stream",
     "name": "stdout",
     "text": [
      "========================for test=========================\ny: [[0.0800576 ]\n [0.2960229 ]\n [0.90397203]\n [0.51955655]\n [0.88693269]]\nmean: [0.9633458  0.93267767]\nvar: [0.05532568 0.19115782]\nres: [[1.46978860e-03 1.36275234e-01]\n [3.03120323e-02 3.16065430e-01]\n [1.64289752e+00 9.10495873e-01]\n [2.86051255e-01 5.83903610e-01]\n [1.60890121e+00 9.07479696e-01]]\n"
     ]
    }
   ],
   "source": [
    "print(\"========================for test=========================\")\n",
    "rng = np.random.default_rng(seed = 2021615)\n",
    "y_test = rng.random((5, 1))\n",
    "mean_test = rng.random((2, ))\n",
    "var_test = rng.random((2, ))\n",
    "print(\"y:\", y_test)\n",
    "print(\"mean:\", mean_test)\n",
    "print(\"var:\", var_test)\n",
    "res_test = Gaussian_func(y_test, mean_test, var_test)\n",
    "print(\"res:\", res_test)"
   ]
  },
  {
   "cell_type": "code",
   "execution_count": 193,
   "metadata": {},
   "outputs": [],
   "source": [
    "def Expectation(parameters, y):\n",
    "    \"\"\"\n",
    "        Params: parametrs - dict containing parameters for k distribute Gaussian models\n",
    "                y - outcomes\n",
    "        Yield: res - matrix containing response for jth outcome with kth model\n",
    "    \"\"\"\n",
    "    alpha, mean, variance = parameters['alpha'], parameters['mean'], parameters['variance']\n",
    "    N = len(y)\n",
    "    K = len(alpha)\n",
    "    # res = np.zeros((N, K))\n",
    "    # total_prob = np.zeros(N)\n",
    "\n",
    "    res = alpha * Gaussian_func(y, mean, variance)\n",
    "    total_prob = np.sum(res, axis = 1).reshape(N, 1)\n",
    "    res = res / total_prob\n",
    "\n",
    "    return res"
   ]
  },
  {
   "cell_type": "code",
   "execution_count": 194,
   "metadata": {},
   "outputs": [
    {
     "output_type": "stream",
     "name": "stdout",
     "text": [
      "========================for test=========================\nGF [[1.46978860e-03 1.36275234e-01]\n [3.03120323e-02 3.16065430e-01]\n [1.64289752e+00 9.10495873e-01]\n [2.86051255e-01 5.83903610e-01]\n [1.60890121e+00 9.07479696e-01]]\ntotal_prob: [[0.13774502]\n [0.34637746]\n [2.55339339]\n [0.86995486]\n [2.51638091]]\nres: [[0.01067036 0.98932964]\n [0.08751156 0.91248844]\n [0.64341731 0.35658269]\n [0.3288116  0.6711884 ]\n [0.63937109 0.36062891]]\n"
     ]
    }
   ],
   "source": [
    "print(\"========================for test=========================\")\n",
    "parameters_test = {\n",
    "    \"alpha\" : np.array([0.5, 0.5]),\n",
    "    \"mean\" : mean_test,\n",
    "    \"variance\" : var_test\n",
    "}\n",
    "print(\"GF\", res_test)\n",
    "print(\"total_prob:\", np.sum(res_test, axis = 1).reshape(5, 1))\n",
    "print(\"res:\", Expectation(parameters_test, y_test))"
   ]
  },
  {
   "cell_type": "code",
   "execution_count": 195,
   "metadata": {},
   "outputs": [],
   "source": [
    "def Maximization(res, y, parameters):\n",
    "    \"\"\"\n",
    "        Params: res - res for jth outcome with kth model (matrix in shape of [N, K])\n",
    "                y - outcomes (array)\n",
    "        Yield: a new set of parameters for k models\n",
    "    \"\"\"\n",
    "    N = len(y)\n",
    "    K = res.shape[1]\n",
    "\n",
    "    mean = parameters['mean']\n",
    "    res_sum = np.sum(res, axis = 0)\n",
    "    \n",
    "    mean = np.dot(y.T, res) / res_sum\n",
    "    variance = np.dot(res.T, np.square(tile(y, K) - mean)).diagonal() / res_sum\n",
    "    alpha = res_sum / N\n",
    "    \n",
    "    parameters = {}\n",
    "    parameters['mean'] = mean\n",
    "    parameters['variance'] = variance\n",
    "    parameters['alpha'] = alpha\n",
    "\n",
    "    return parameters"
   ]
  },
  {
   "cell_type": "code",
   "execution_count": 196,
   "metadata": {},
   "outputs": [
    {
     "output_type": "stream",
     "name": "stdout",
     "text": [
      "========================for test=========================\nres: [[1.46978860e-03 1.36275234e-01]\n [3.03120323e-02 3.16065430e-01]\n [1.64289752e+00 9.10495873e-01]\n [2.86051255e-01 5.83903610e-01]\n [1.60890121e+00 9.07479696e-01]]\nnew parameters: \n{'mean': array([[0.85998534, 0.71325257]]), 'variance': array([0.01345599, 0.06728903]), 'alpha': array([0.71392636, 0.57084397])}\n"
     ]
    }
   ],
   "source": [
    "print(\"========================for test=========================\")\n",
    "print(\"res:\", res_test)\n",
    "print(\"new parameters: \")\n",
    "print(Maximization(res_test, y_test, parameters_test))"
   ]
  },
  {
   "cell_type": "code",
   "execution_count": 197,
   "metadata": {},
   "outputs": [],
   "source": [
    "def GMM_EM(y, K):\n",
    "    parameters = init_GMM(K)\n",
    "    hist = []\n",
    "\n",
    "    for epoch in range(3):\n",
    "        res = Expectation(parameters, y)\n",
    "        parameters = Maximization(res, y, parameters)\n",
    "        hist.append(parameters)\n",
    "\n",
    "    return hist"
   ]
  },
  {
   "cell_type": "code",
   "execution_count": 198,
   "metadata": {},
   "outputs": [
    {
     "output_type": "stream",
     "name": "stdout",
     "text": [
      "[[-0.28653894]\n [-0.27224959]\n [-0.23163778]\n [-0.23013363]\n [-0.22562121]\n [-0.22411707]\n [-0.21885257]\n [-0.2181005 ]\n [-0.21509222]\n [-0.21434015]\n [-0.2053153 ]\n [-0.19929874]\n [-0.19403424]\n [-0.19102596]\n [-0.1797449 ]]\n"
     ]
    },
    {
     "output_type": "execute_result",
     "data": {
      "text/plain": [
       "[{'mean': array([[-0.22039643, -0.2205897 ]]),\n",
       "  'variance': array([0.00075178, 0.0007571 ]),\n",
       "  'alpha': array([0.94608695, 0.05391305])},\n",
       " {'mean': array([[-0.22039119, -0.22068166]]),\n",
       "  'variance': array([0.00075141, 0.00076359]),\n",
       "  'alpha': array([0.94608565, 0.05391435])},\n",
       " {'mean': array([[-0.22037915, -0.22089291]]),\n",
       "  'variance': array([0.00075078, 0.0007745 ]),\n",
       "  'alpha': array([0.94608094, 0.05391906])}]"
      ]
     },
     "metadata": {},
     "execution_count": 198
    }
   ],
   "source": [
    "o = np.array([-67, -48, 6, 8, 14, 16, 23, 24, 28, 29, 41, 49, 56, 60, 75]).reshape(15, 1)\n",
    "o = (o - np.sum(o)) / np.var(o)\n",
    "print(o)\n",
    "hist = GMM_EM(o, 2)\n",
    "hist"
   ]
  },
  {
   "cell_type": "code",
   "execution_count": 199,
   "metadata": {},
   "outputs": [],
   "source": [
    "from sklearn.mixture import GaussianMixture"
   ]
  },
  {
   "cell_type": "code",
   "execution_count": 200,
   "metadata": {},
   "outputs": [
    {
     "output_type": "stream",
     "name": "stdout",
     "text": [
      "[[-0.21134358]\n [-0.27940284]]\n[[[2.43925784e-04]]\n\n [[5.20462599e-05]]]\n[0.86683257 0.13316743]\n"
     ]
    }
   ],
   "source": [
    "gm = GaussianMixture(2).fit(o)\n",
    "print(gm.means_)\n",
    "print(gm.covariances_)\n",
    "print(gm.weights_)"
   ]
  },
  {
   "cell_type": "code",
   "execution_count": null,
   "metadata": {},
   "outputs": [],
   "source": []
  }
 ]
}