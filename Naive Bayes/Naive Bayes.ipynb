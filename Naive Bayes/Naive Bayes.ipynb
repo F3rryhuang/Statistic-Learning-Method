{
 "metadata": {
  "language_info": {
   "codemirror_mode": {
    "name": "ipython",
    "version": 3
   },
   "file_extension": ".py",
   "mimetype": "text/x-python",
   "name": "python",
   "nbconvert_exporter": "python",
   "pygments_lexer": "ipython3",
   "version": "3.8.3"
  },
  "orig_nbformat": 2,
  "kernelspec": {
   "name": "python383jvsc74a57bd007efdcd4b820c98a756949507a4d29d7862823915ec7477944641bea022f4f62",
   "display_name": "Python 3.8.3 64-bit ('base': conda)"
  }
 },
 "nbformat": 4,
 "nbformat_minor": 2,
 "cells": [
  {
   "source": [
    "# ***Naive Bayes Estimation All from scratch***"
   ],
   "cell_type": "markdown",
   "metadata": {}
  },
  {
   "source": [
    "## ***Separate By Class***"
   ],
   "cell_type": "markdown",
   "metadata": {}
  },
  {
   "cell_type": "code",
   "execution_count": 3,
   "metadata": {},
   "outputs": [],
   "source": [
    "# Split the dataset by class values, return a dictionary\n",
    "def separate_by_class(dataset):\n",
    "    separated = {}\n",
    "    for i in range(len(dataset)):\n",
    "        vector = dataset[i]\n",
    "        class_value = vector[-1]\n",
    "        if (class_value not in separated):\n",
    "            separated[class_value] = []\n",
    "        separated[class_value].append(vector)\n",
    "    return separated"
   ]
  },
  {
   "cell_type": "code",
   "execution_count": 4,
   "metadata": {},
   "outputs": [
    {
     "output_type": "stream",
     "name": "stdout",
     "text": [
      "0\n[3.393533211, 2.331273381, 0]\n[3.110073483, 1.781539638, 0]\n[1.343808831, 3.368360954, 0]\n[3.582294042, 4.67917911, 0]\n[2.280362439, 2.866990263, 0]\n1\n[7.423436942, 4.696522875, 1]\n[5.745051997, 3.533989803, 1]\n[9.172168622, 2.511101045, 1]\n[7.792783481, 3.424088941, 1]\n[7.939820817, 0.791637231, 1]\n"
     ]
    }
   ],
   "source": [
    "# Test separating data by class\n",
    "dataset = [[3.393533211,2.331273381,0],\n",
    "\t[3.110073483,1.781539638,0],\n",
    "\t[1.343808831,3.368360954,0],\n",
    "\t[3.582294042,4.67917911,0],\n",
    "\t[2.280362439,2.866990263,0],\n",
    "\t[7.423436942,4.696522875,1],\n",
    "\t[5.745051997,3.533989803,1],\n",
    "\t[9.172168622,2.511101045,1],\n",
    "\t[7.792783481,3.424088941,1],\n",
    "\t[7.939820817,0.791637231,1]]\n",
    "separated = separate_by_class(dataset)\n",
    "\n",
    "for label in separated:\n",
    "\tprint(label)\n",
    "\tfor row in separated[label]:\t\t\t\t\n",
    "\t\tprint(row)"
   ]
  },
  {
   "source": [
    "## ***Summarize Dataset***"
   ],
   "cell_type": "markdown",
   "metadata": {}
  },
  {
   "cell_type": "code",
   "execution_count": 5,
   "metadata": {},
   "outputs": [],
   "source": [
    "# Calculate the mean of a list of numbers\n",
    "def mean(numbers):\n",
    "    return sum(numbers) / float(len(numbers))"
   ]
  },
  {
   "cell_type": "code",
   "execution_count": 6,
   "metadata": {},
   "outputs": [],
   "source": [
    "# Calculate the standard deviation of a list of numbers\n",
    "def stdev(numbers):\n",
    "    arg = mean(numbers)\n",
    "    variance = sum((x - arg)**2 for x in numbers) / float(len(numbers) - 1)\n",
    "    return sqrt(variance)"
   ]
  },
  {
   "cell_type": "code",
   "execution_count": 7,
   "metadata": {},
   "outputs": [],
   "source": [
    "def summarize_dataset(dataset):\n",
    "    summaries = [(mean(column), stdev(column), len(column)) for column in zip(*dataset)]\n",
    "    del(summaries[-1])\n",
    "    return summaries"
   ]
  },
  {
   "cell_type": "code",
   "execution_count": 8,
   "metadata": {},
   "outputs": [
    {
     "output_type": "stream",
     "name": "stdout",
     "text": [
      "[(5.178333386499999, 2.7665845055177263, 10), (2.9984683241, 1.218556343617447, 10)]\n"
     ]
    }
   ],
   "source": [
    "from math import sqrt\n",
    "\n",
    "# Test summarizing a dataset\n",
    "dataset = [[3.393533211,2.331273381,0],\n",
    "\t[3.110073483,1.781539638,0],\n",
    "\t[1.343808831,3.368360954,0],\n",
    "\t[3.582294042,4.67917911,0],\n",
    "\t[2.280362439,2.866990263,0],\n",
    "\t[7.423436942,4.696522875,1],\n",
    "\t[5.745051997,3.533989803,1],\n",
    "\t[9.172168622,2.511101045,1],\n",
    "\t[7.792783481,3.424088941,1],\n",
    "\t[7.939820817,0.791637231,1]]\n",
    "summary = summarize_dataset(dataset)\n",
    "print(summary)"
   ]
  },
  {
   "source": [
    "## ***Summarize Data By Class***"
   ],
   "cell_type": "markdown",
   "metadata": {}
  },
  {
   "cell_type": "code",
   "execution_count": 9,
   "metadata": {},
   "outputs": [],
   "source": [
    "# Split dataset by class then calculate statistics for each row\n",
    "def summarize_by_class(dataset):\n",
    "\tseparated = separate_by_class(dataset)\n",
    "\tsummaries = dict()\n",
    "\tfor class_value, rows in separated.items():\n",
    "\t\tsummaries[class_value] = summarize_dataset(rows)\n",
    "\treturn summaries"
   ]
  },
  {
   "cell_type": "code",
   "execution_count": 10,
   "metadata": {},
   "outputs": [
    {
     "output_type": "stream",
     "name": "stdout",
     "text": [
      "0\n(2.7420144012, 0.9265683289298018, 5)\n(3.0054686692, 1.1073295894898725, 5)\n1\n(7.6146523718, 1.2344321550313704, 5)\n(2.9914679790000003, 1.4541931384601618, 5)\n"
     ]
    }
   ],
   "source": [
    "# Test summarizing by class\n",
    "dataset = [[3.393533211,2.331273381,0],\n",
    "\t[3.110073483,1.781539638,0],\n",
    "\t[1.343808831,3.368360954,0],\n",
    "\t[3.582294042,4.67917911,0],\n",
    "\t[2.280362439,2.866990263,0],\n",
    "\t[7.423436942,4.696522875,1],\n",
    "\t[5.745051997,3.533989803,1],\n",
    "\t[9.172168622,2.511101045,1],\n",
    "\t[7.792783481,3.424088941,1],\n",
    "\t[7.939820817,0.791637231,1]]\n",
    "\n",
    "summary = summarize_by_class(dataset)\n",
    "for label in summary:\n",
    "\tprint(label)\n",
    "\tfor row in summary[label]:\n",
    "\t\tprint(row)"
   ]
  },
  {
   "cell_type": "code",
   "execution_count": 16,
   "metadata": {},
   "outputs": [
    {
     "output_type": "stream",
     "name": "stdout",
     "text": [
      "0\n2\n[(2.7420144012, 0.9265683289298018, 5), (3.0054686692, 1.1073295894898725, 5)]\n1\n2\n[(7.6146523718, 1.2344321550313704, 5), (2.9914679790000003, 1.4541931384601618, 5)]\n"
     ]
    }
   ],
   "source": [
    "for class_value, class_summaries in summary.items():\n",
    "    print(class_value)\n",
    "    print(len(class_summaries))\n",
    "    print(class_summaries)"
   ]
  },
  {
   "source": [
    "## ***Gaussian Probability Density Function***"
   ],
   "cell_type": "markdown",
   "metadata": {}
  },
  {
   "cell_type": "code",
   "execution_count": 19,
   "metadata": {},
   "outputs": [],
   "source": [
    "# Calculate the Gaussian probability distribution fuction for x\n",
    "def calculate_probability(x, mean, stdev):\n",
    "    exponent = exp(-(x - mean)**2 / (2 * stdev**2))\n",
    "    return 1 / sqrt(2 * pi * stdev**2) * exponent"
   ]
  },
  {
   "cell_type": "code",
   "execution_count": 20,
   "metadata": {},
   "outputs": [
    {
     "output_type": "stream",
     "name": "stdout",
     "text": [
      "0.3989422804014327\n0.24197072451914337\n0.24197072451914337\n"
     ]
    }
   ],
   "source": [
    "from math import pi\n",
    "from math import exp\n",
    "\n",
    "# Test Gaussian PDF\n",
    "print(calculate_probability(1.0, 1.0, 1.0))\n",
    "print(calculate_probability(2.0, 1.0, 1.0))\n",
    "print(calculate_probability(0.0, 1.0, 1.0))"
   ]
  },
  {
   "cell_type": "code",
   "execution_count": 21,
   "metadata": {},
   "outputs": [],
   "source": [
    "def calculate_class_probabilities(summaries, row):\n",
    "    total_rows = sum([summaries[label][0][2] for label in summaries])\n",
    "    probabilities = {}\n",
    "    for class_value, class_summaries in summaries.items():\n",
    "        probabilities[class_value] = class_summaries[0][2] / float(total_rows)\n",
    "        for i in range(len(class_summaries)):\n",
    "            mean, stdev, count = class_summaries[i]\n",
    "            probabilities[class_value] *= calculate_probability(row[i], mean, stdev)\n",
    "    \n",
    "    return probabilities"
   ]
  },
  {
   "cell_type": "code",
   "execution_count": 22,
   "metadata": {},
   "outputs": [
    {
     "output_type": "stream",
     "name": "stdout",
     "text": [
      "{0: 0.05032427673372075, 1: 0.00011557718379945765}\n"
     ]
    }
   ],
   "source": [
    "# Test calculating class probabilities\n",
    "dataset = [[3.393533211,2.331273381,0],\n",
    "\t[3.110073483,1.781539638,0],\n",
    "\t[1.343808831,3.368360954,0],\n",
    "\t[3.582294042,4.67917911,0],\n",
    "\t[2.280362439,2.866990263,0],\n",
    "\t[7.423436942,4.696522875,1],\n",
    "\t[5.745051997,3.533989803,1],\n",
    "\t[9.172168622,2.511101045,1],\n",
    "\t[7.792783481,3.424088941,1],\n",
    "\t[7.939820817,0.791637231,1]]\n",
    "summaries = summarize_by_class(dataset)\n",
    "probabilities = calculate_class_probabilities(summaries, dataset[0])\n",
    "print(probabilities)"
   ]
  },
  {
   "cell_type": "code",
   "execution_count": 23,
   "metadata": {},
   "outputs": [],
   "source": [
    "# Predict the class for a given row\n",
    "def predict(summaries, row):\n",
    "\tprobabilities = calculate_class_probabilities(summaries, row)\n",
    "\tbest_label, best_prob = None, -1\n",
    "\tfor class_value, probability in probabilities.items():\n",
    "\t\tif best_label is None or probability > best_prob:\n",
    "\t\t\tbest_prob = probability\n",
    "\t\t\tbest_label = class_value\n",
    "\treturn best_label"
   ]
  },
  {
   "cell_type": "code",
   "execution_count": 24,
   "metadata": {},
   "outputs": [],
   "source": [
    "# Naive Bayes Algorithm\n",
    "def naive_bayes(train, test):\n",
    "\tsummarize = summarize_by_class(train)\n",
    "\tpredictions = list()\n",
    "\tfor row in test:\n",
    "\t\toutput = predict(summarize, row)\n",
    "\t\tpredictions.append(output)\n",
    "\treturn(predictions)"
   ]
  },
  {
   "cell_type": "code",
   "execution_count": 25,
   "metadata": {},
   "outputs": [],
   "source": [
    "# Naive Bayes on iris dataset\r\n",
    "from csv import reader\r\n",
    "from random import seed\r\n",
    "from random import randrange\r\n",
    "# Load a CSV file\r\n",
    "def load_csv(filename):\r\n",
    "\tdataset = list()\r\n",
    "\twith open(filename, 'r') as file:\r\n",
    "\t\tcsv_reader = reader(file)\r\n",
    "\t\tfor row in csv_reader:\r\n",
    "\t\t\tif not row:\r\n",
    "\t\t\t\tcontinue\r\n",
    "\t\t\tdataset.append(row)\r\n",
    "\treturn dataset\r\n",
    " \r\n",
    "# Convert string column to float\r\n",
    "def str_column_to_float(dataset, column):\r\n",
    "\tfor row in dataset:\r\n",
    "\t\trow[column] = float(row[column].strip())\r\n",
    " \r\n",
    "# Convert string column to integer\r\n",
    "def str_column_to_int(dataset, column):\r\n",
    "\tclass_values = [row[column] for row in dataset]\r\n",
    "\tunique = set(class_values)\r\n",
    "\tlookup = dict()\r\n",
    "\tfor i, value in enumerate(unique):\r\n",
    "\t\tlookup[value] = i\r\n",
    "\tfor row in dataset:\r\n",
    "\t\trow[column] = lookup[row[column]]\r\n",
    "\treturn lookup\r\n",
    " \r\n",
    "# Split a dataset into k folds\r\n",
    "def cross_validation_split(dataset, n_folds):\r\n",
    "\tdataset_split = list()\r\n",
    "\tdataset_copy = list(dataset)\r\n",
    "\tfold_size = int(len(dataset) / n_folds)\r\n",
    "\tfor _ in range(n_folds):\r\n",
    "\t\tfold = list()\r\n",
    "\t\twhile len(fold) < fold_size:\r\n",
    "\t\t\tindex = randrange(len(dataset_copy))\r\n",
    "\t\t\tfold.append(dataset_copy.pop(index))\r\n",
    "\t\tdataset_split.append(fold)\r\n",
    "\treturn dataset_split\r\n",
    "\r\n",
    "# Calculate accuracy percentage\r\n",
    "def accuracy_metric(actual, predicted):\r\n",
    "\tcorrect = 0\r\n",
    "\tfor i in range(len(actual)):\r\n",
    "\t\tif actual[i] == predicted[i]:\r\n",
    "\t\t\tcorrect += 1\r\n",
    "\treturn correct / float(len(actual)) * 100.0\r\n",
    " \r\n",
    "# Evaluate an algorithm using a cross validation split\r\n",
    "def evaluate_algorithm(dataset, algorithm, n_folds, *args):\r\n",
    "\tfolds = cross_validation_split(dataset, n_folds)\r\n",
    "\tscores = list()\r\n",
    "\tfor fold in folds:\r\n",
    "\t\ttrain_set = list(folds)\r\n",
    "\t\ttrain_set.remove(fold)\r\n",
    "\t\ttrain_set = sum(train_set, [])\r\n",
    "\t\ttest_set = list()\r\n",
    "\t\tfor row in fold:\r\n",
    "\t\t\trow_copy = list(row)\r\n",
    "\t\t\ttest_set.append(row_copy)\r\n",
    "\t\t\trow_copy[-1] = None\r\n",
    "\t\tpredicted = algorithm(train_set, test_set, *args)\r\n",
    "\t\tactual = [row[-1] for row in fold]\r\n",
    "\t\taccuracy = accuracy_metric(actual, predicted)\r\n",
    "\t\tscores.append(accuracy)\r\n",
    "\treturn scores"
   ]
  },
  {
   "cell_type": "code",
   "execution_count": 26,
   "metadata": {},
   "outputs": [
    {
     "output_type": "stream",
     "name": "stdout",
     "text": [
      "Scores: [93.33333333333333, 96.66666666666667, 100.0, 93.33333333333333, 93.33333333333333]\nMean Accuracy: 95.333%\n"
     ]
    }
   ],
   "source": [
    "# Test Naive Bayes on Iris Dataset\n",
    "seed(1)\n",
    "filename = 'iris.csv'\n",
    "dataset = load_csv(filename)\n",
    "for i in range(len(dataset[0])-1):\n",
    "\tstr_column_to_float(dataset, i)\n",
    "# convert class column to integers\n",
    "str_column_to_int(dataset, len(dataset[0])-1)\n",
    "# evaluate algorithm\n",
    "n_folds = 5\n",
    "scores = evaluate_algorithm(dataset, naive_bayes, n_folds)\n",
    "print('Scores: %s' % scores)\n",
    "print('Mean Accuracy: %.3f%%' % (sum(scores)/float(len(scores))))"
   ]
  },
  {
   "cell_type": "code",
   "execution_count": null,
   "metadata": {},
   "outputs": [],
   "source": []
  }
 ]
}