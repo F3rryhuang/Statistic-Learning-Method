{
 "cells": [
  {
   "cell_type": "code",
   "execution_count": 62,
   "metadata": {},
   "outputs": [],
   "source": [
    "import numpy as np"
   ]
  },
  {
   "cell_type": "code",
   "execution_count": 63,
   "metadata": {},
   "outputs": [],
   "source": [
    "def Viterbi(O, A, B, pi):\r\n",
    "    \"\"\"Viterbi aims to find the best road leading to observe, given A, B, pi\r\n",
    "\r\n",
    "    Args:\r\n",
    "        O ([list]): contains observed sequence\r\n",
    "        A ([matrix]): aij for prob that convert from status i at time-step t to status j at time-step t+1\r\n",
    "        B ([matrix]): bij for at time-step t, status i yields observe output j\r\n",
    "        pi ([ndarray]): PIi for prob of status i serves as initial status\r\n",
    "    \r\n",
    "    Returns:\r\n",
    "        [float]: probability of the best road\r\n",
    "        [ndarray]: index of node of the best road at each time-step\r\n",
    "    \"\"\"\r\n",
    "    N = A.shape[0]\r\n",
    "    T = len(O)\r\n",
    "    Sigma = np.zeros((N, T))            ## Sigma(i, j) - the biggest probability of status i at t.s. t with o1, o2, ..., ot\r\n",
    "    Psi = np.zeros((N, T))              ## Psi(i, j) - the node at t.s. t-1 of  the best road\r\n",
    "    I = np.zeros(T)\r\n",
    "\r\n",
    "    Sigma[:, 0] = pi * B[:, O[0]]\r\n",
    "    Psi[:, 0] = 0\r\n",
    "    \r\n",
    "    for t in range(T - 1):\r\n",
    "        Sigma[:, t + 1] = np.max(Sigma[:, t].reshape(3, 1) * A, axis = 0) * B[:, O[t + 1]]\r\n",
    "        Psi[:, t + 1] = np.argmax(Sigma[:, t].reshape(3, 1) * A, axis = 0)\r\n",
    "    best_P = np.max(Sigma[:, -1])\r\n",
    "    I[-1] = np.argmax(Sigma[:, -1])\r\n",
    "\r\n",
    "    for t in reversed(range(T - 1)):\r\n",
    "        I[t] = Psi[int(I[t + 1]), t + 1]\r\n",
    "\r\n",
    "    return best_P, I\r\n"
   ]
  },
  {
   "cell_type": "code",
   "execution_count": 64,
   "metadata": {},
   "outputs": [],
   "source": [
    "A = np.array([[0.5, 0.2, 0.3],\r\n",
    "              [0.3, 0.5, 0.2],\r\n",
    "              [0.2, 0.3, 0.5]])\r\n",
    "\r\n",
    "B = np.array([[0.5, 0.5],\r\n",
    "              [0.4, 0.6],\r\n",
    "              [0.7, 0.3]])\r\n",
    "\r\n",
    "pi = np.array([[0.2, 0.4, 0.4]])\r\n",
    "O = [0, 1, 0, 1]"
   ]
  },
  {
   "cell_type": "code",
   "execution_count": 65,
   "metadata": {},
   "outputs": [
    {
     "name": "stdout",
     "output_type": "stream",
     "text": [
      "0.0030239999999999993\n",
      "[2. 1. 1. 1.]\n"
     ]
    }
   ],
   "source": [
    "best_P, I = Viterbi(O, A, B, pi)\r\n",
    "print(best_P)\r\n",
    "print(I)"
   ]
  },
  {
   "cell_type": "code",
   "execution_count": 68,
   "metadata": {},
   "outputs": [
    {
     "name": "stdout",
     "output_type": "stream",
     "text": [
      "[0.1  0.16 0.28]\n",
      "slice shape: (3,)\n",
      "[[0.1 ]\n",
      " [0.16]\n",
      " [0.28]]\n",
      "after reshape: (3, 1)\n",
      "No reshape multiply:  [[0.05  0.032 0.084]\n",
      " [0.03  0.08  0.056]\n",
      " [0.02  0.048 0.14 ]]\n",
      "After reshape multiply:  [[0.05  0.02  0.03 ]\n",
      " [0.048 0.08  0.032]\n",
      " [0.056 0.084 0.14 ]]\n",
      "[0.056 0.084 0.14 ]\n"
     ]
    }
   ],
   "source": [
    "sigma = np.array([[0.1 , 0.  , 0.  , 0.  ],\r\n",
    "       [0.16, 0.  , 0.  , 0.  ],\r\n",
    "       [0.28, 0.  , 0.  , 0.  ]])\r\n",
    "A = np.array([[0.5, 0.2, 0.3],\r\n",
    "              [0.3, 0.5, 0.2],\r\n",
    "              [0.2, 0.3, 0.5]])\r\n",
    "print(sigma[:, 0])\r\n",
    "print(\"slice shape:\", sigma[:, 0].shape)\r\n",
    "print(sigma[:, 0].reshape(3, 1))\r\n",
    "print(\"after reshape:\", sigma[:, 0].reshape(3, 1).shape)\r\n",
    "print(\"No reshape multiply: \", sigma[:, 0] * A)\r\n",
    "print(\"After reshape multiply: \", sigma[:, 0].reshape(3, 1) * A)\r\n",
    "print(np.max(sigma[:, 0].reshape(3, 1) * A, axis=0))"
   ]
  }
 ],
 "metadata": {
  "interpreter": {
   "hash": "07efdcd4b820c98a756949507a4d29d7862823915ec7477944641bea022f4f62"
  },
  "kernelspec": {
   "display_name": "Python 3.8.3 64-bit ('base': conda)",
   "name": "python3"
  },
  "language_info": {
   "codemirror_mode": {
    "name": "ipython",
    "version": 3
   },
   "file_extension": ".py",
   "mimetype": "text/x-python",
   "name": "python",
   "nbconvert_exporter": "python",
   "pygments_lexer": "ipython3",
   "version": "3.8.3"
  },
  "orig_nbformat": 4
 },
 "nbformat": 4,
 "nbformat_minor": 2
}