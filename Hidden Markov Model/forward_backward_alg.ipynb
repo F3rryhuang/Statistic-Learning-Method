{
 "cells": [
  {
   "cell_type": "markdown",
   "metadata": {},
   "source": [
    "# ***This code aims to solve the promblem 10.2 as well as get familiar with forward-backward algorithm in HMM***"
   ]
  },
  {
   "cell_type": "code",
   "execution_count": 89,
   "metadata": {},
   "outputs": [],
   "source": [
    "import numpy"
   ]
  },
  {
   "cell_type": "code",
   "execution_count": 90,
   "metadata": {},
   "outputs": [],
   "source": [
    "def forward(O, A, B, pi):\r\n",
    "    \"\"\" back_alg iterator\r\n",
    "\r\n",
    "    Args:\r\n",
    "        O ([list]): contains observed sequence, of shape (T)\r\n",
    "        A ([matrix]): aij for prob that convert from status i at time-step t to status j at time-step t+1, of shape (N, N)\r\n",
    "        B ([matrix]): bij for at time-step t, status i yields observe output j, of shape (N, n)\r\n",
    "        pi ([ndarray]): PIi for prob of status i serves as initial status, of shape (1, N)\r\n",
    "\r\n",
    "    Returns:\r\n",
    "        [matrix]: all-time alpha-matrix\r\n",
    "        [float]: condition probability of O given A, B, PI\r\n",
    "    \"\"\"\r\n",
    "    T = len(O)\r\n",
    "    N = A.shape[0]\r\n",
    "    alpha = np.zeros((N, T))\r\n",
    "    alpha[:, 0] = (pi.T * B[:, O[0]]).diagonal()        # (3, 1) * (3, 1) = (3, 3), elementwise products lay in diagonal\r\n",
    "    for t in range(T - 1):\r\n",
    "        o = O[t + 1]\r\n",
    "        alpha[:, t + 1] = forward_step(o, A, B, alpha[:, t])\r\n",
    "    prob = sum(alpha[:, -1])\r\n",
    "    return alpha, prob"
   ]
  },
  {
   "cell_type": "code",
   "execution_count": 91,
   "metadata": {},
   "outputs": [],
   "source": [
    "def forward_step(o, A, B, prev_alpha):\r\n",
    "    \"\"\"compute alpha[t + 1]\r\n",
    "\r\n",
    "    Args:\r\n",
    "        o ([int]): observe at time-step t+1\r\n",
    "        A ([matrix]): aij for prob that convert from status i at time-step t to status j at time-step t+1\r\n",
    "        B ([matrix]): bj for prob that status j yields obseve at time-step t+1\r\n",
    "        prev_alpha ([matrix]): alpha sequence at time-step t+1\r\n",
    "\r\n",
    "    Returns:\r\n",
    "        [matrix]: alpha at time-step t+1\r\n",
    "    \"\"\"\r\n",
    "    b = B[:, o]\r\n",
    "    alpha = (A.T).dot(prev_alpha) * b\r\n",
    "    return alpha"
   ]
  },
  {
   "cell_type": "code",
   "execution_count": 92,
   "metadata": {},
   "outputs": [],
   "source": [
    "A = np.array([[0.5, 0.1, 0.4],\r\n",
    "              [0.3, 0.5, 0.2],\r\n",
    "              [0.2, 0.2, 0.6]])\r\n",
    "\r\n",
    "B = np.array([[0.5, 0.5],\r\n",
    "              [0.4, 0.6],\r\n",
    "              [0.7, 0.3]])\r\n",
    "\r\n",
    "pi = np.array([[0.2, 0.3, 0.5]])\r\n",
    "\r\n",
    "O = [0, 1, 0, 0, 1, 0, 1, 1]"
   ]
  },
  {
   "cell_type": "code",
   "execution_count": 93,
   "metadata": {},
   "outputs": [
    {
     "name": "stdout",
     "output_type": "stream",
     "text": [
      "0.0034767094492823996\n",
      "[[0.1        0.078      0.04032    0.0208668  0.0114321  0.00549669\n",
      "  0.00281056 0.00132502]\n",
      " [0.12       0.084      0.026496   0.01236192 0.01019392 0.00338373\n",
      "  0.00245952 0.00121063]\n",
      " [0.35       0.0822     0.068124   0.04361112 0.01109573 0.00928834\n",
      "  0.00253453 0.00094105]]\n"
     ]
    }
   ],
   "source": [
    "alpha, prob = forward(O, A, B, pi)\r\n",
    "print(prob)\r\n",
    "print(alpha)"
   ]
  },
  {
   "cell_type": "code",
   "execution_count": 94,
   "metadata": {},
   "outputs": [],
   "source": [
    "from HMM_utils import *"
   ]
  },
  {
   "cell_type": "code",
   "execution_count": 95,
   "metadata": {},
   "outputs": [
    {
     "name": "stdout",
     "output_type": "stream",
     "text": [
      "[0.00347671]\n",
      "[[0.00632569 0.01482964 0.02556442 0.04586531 0.105521   0.1861\n",
      "  0.43       1.        ]\n",
      " [0.00684706 0.01227214 0.02343448 0.05280909 0.100883   0.2415\n",
      "  0.51       1.        ]\n",
      " [0.00577855 0.01568294 0.02678985 0.04280618 0.111934   0.1762\n",
      "  0.4        1.        ]]\n"
     ]
    }
   ],
   "source": [
    "beta, prob_b = backward(O, A, B, pi)\r\n",
    "print(prob_b)\r\n",
    "print(beta)"
   ]
  },
  {
   "cell_type": "code",
   "execution_count": 101,
   "metadata": {},
   "outputs": [],
   "source": [
    "def status_prob(alpha, beta, *Args):\r\n",
    "    \"\"\"compute probability of status i at time-step t\r\n",
    "\r\n",
    "    Args:\r\n",
    "        alpha ([matrix]): alpha of all status of all time-steps\r\n",
    "        beta ([matrix]): beta of all status of all time-steps\r\n",
    "        i ([int]): index of status \r\n",
    "        t ([int]): index of time-step\r\n",
    "\r\n",
    "    Returns:\r\n",
    "        [float]: probability of status i at time-step t\r\n",
    "    \"\"\"\r\n",
    "    if (Args):\r\n",
    "        i, t = Args\r\n",
    "        ## return prob at certain i and t\r\n",
    "        return alpha[i, t] * beta[i, t] / np.expand_dims(alpha[:, t], axis = 0).dot(np.expand_dims(beta[:, t], axis = 1))\r\n",
    "\r\n",
    "    else:\r\n",
    "        N = alpha.shape[0]\r\n",
    "        stat_prob = np.zeros((N, N))\r\n",
    "        stat_prob = np.multiply(alpha, beta)\r\n",
    "        total_prob = np.sum(stat_prob, axis = 0)\r\n",
    "        stat_prob /= total_prob\r\n",
    "        ## return the whole\r\n",
    "        return stat_prob"
   ]
  },
  {
   "cell_type": "code",
   "execution_count": 102,
   "metadata": {},
   "outputs": [
    {
     "name": "stdout",
     "output_type": "stream",
     "text": [
      "[[0.53695182]]\n",
      "0.5369518160647323\n"
     ]
    }
   ],
   "source": [
    "prob_4_3 = status_prob(alpha, beta, 2, 3)\r\n",
    "print(prob_4_3)\r\n",
    "stat_prob = status_prob(alpha, beta)\r\n",
    "print(stat_prob[2, 3])"
   ]
  }
 ],
 "metadata": {
  "interpreter": {
   "hash": "07efdcd4b820c98a756949507a4d29d7862823915ec7477944641bea022f4f62"
  },
  "kernelspec": {
   "display_name": "Python 3.8.3 64-bit ('base': conda)",
   "name": "python3"
  },
  "language_info": {
   "codemirror_mode": {
    "name": "ipython",
    "version": 3
   },
   "file_extension": ".py",
   "mimetype": "text/x-python",
   "name": "python",
   "nbconvert_exporter": "python",
   "pygments_lexer": "ipython3",
   "version": "3.8.3"
  },
  "orig_nbformat": 4
 },
 "nbformat": 4,
 "nbformat_minor": 2
}