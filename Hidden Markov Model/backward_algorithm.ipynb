{
 "cells": [
  {
   "cell_type": "markdown",
   "metadata": {},
   "source": [
    "# ***This code aims to solve the promblem 10.1 as well as get familiar with backward algorithm in HMM***"
   ]
  },
  {
   "cell_type": "code",
   "execution_count": 33,
   "metadata": {},
   "outputs": [],
   "source": [
    "import numpy as np\r\n",
    "def backward(O, A, B, pi):\r\n",
    "    \"\"\" back_alg iterator\r\n",
    "\r\n",
    "    Args:\r\n",
    "        O ([list]): contains observed sequence\r\n",
    "        A ([matrix]): aij for prob that convert from status i at time-step t to status j at time-step t+1\r\n",
    "        B ([matrix]): bij for at time-step t, status i yields observe output j\r\n",
    "        pi ([ndarray]): PIi for prob of status i serves as initial status\r\n",
    "\r\n",
    "    Returns:\r\n",
    "        [matrix]: all-time beta-matrix\r\n",
    "        [float]: condition probability of O given A, B, PI\r\n",
    "    \"\"\"\r\n",
    "    T = len(O)\r\n",
    "    N = A.shape[0]\r\n",
    "    beta = np.zeros((N, T))\r\n",
    "    beta[:, -1] = 1             ## at time step T, beta[i] = 1\r\n",
    "    for t in reversed(range(T - 1)):\r\n",
    "        o = O[t + 1]\r\n",
    "        beta[:, t] = back_alg(o, A, B, beta[:, t+1])\r\n",
    "    prob = pi.dot(B[:, O[0]] * beta[:, 0])\r\n",
    "\r\n",
    "    return beta, prob"
   ]
  },
  {
   "cell_type": "code",
   "execution_count": 34,
   "metadata": {},
   "outputs": [],
   "source": [
    "def backward_step(o, A, B, prev_beta):\r\n",
    "    \"\"\"compute beta[t]\r\n",
    "\r\n",
    "    Args:\r\n",
    "        o ([int]): observe at time-step t+1\r\n",
    "        A ([matrix]): aij for prob that convert from status i at time-step t to status j at time-step t+1\r\n",
    "        B ([matrix]): bj for prob that status j yields obseve at time-step t+1\r\n",
    "        prev_beta ([matrix]): beta sequence at time-step t+1\r\n",
    "\r\n",
    "    Returns:\r\n",
    "        [matrix]: beta at time-step t\r\n",
    "    \"\"\"\r\n",
    "    b = B[:, o]\r\n",
    "    beta = A.dot(b * prev_beta)\r\n",
    "    return beta"
   ]
  },
  {
   "cell_type": "code",
   "execution_count": 35,
   "metadata": {},
   "outputs": [],
   "source": [
    "A = np.array([[0.5, 0.2, 0.3],\r\n",
    "              [0.3, 0.5, 0.2],\r\n",
    "              [0.2, 0.3, 0.5]])\r\n",
    "\r\n",
    "B = np.array([[0.5, 0.5],\r\n",
    "              [0.4, 0.6],\r\n",
    "              [0.7, 0.3]])\r\n",
    "\r\n",
    "pi = np.array([[0.2, 0.4, 0.4]])\r\n",
    "O = [0, 1, 0, 1]"
   ]
  },
  {
   "cell_type": "code",
   "execution_count": 36,
   "metadata": {},
   "outputs": [
    {
     "name": "stdout",
     "output_type": "stream",
     "text": [
      "[0.0600908]\n",
      "[[0.112462 0.2461   0.46     1.      ]\n",
      " [0.121737 0.2312   0.51     1.      ]\n",
      " [0.104881 0.2577   0.43     1.      ]]\n",
      "(3, 4)\n"
     ]
    }
   ],
   "source": [
    "Beta, prob = backward(O, A, B, pi)\r\n",
    "print(prob)\r\n",
    "print(Beta)\r\n",
    "print(Beta.shape)"
   ]
  }
 ],
 "metadata": {
  "interpreter": {
   "hash": "07efdcd4b820c98a756949507a4d29d7862823915ec7477944641bea022f4f62"
  },
  "kernelspec": {
   "display_name": "Python 3.8.3 64-bit ('base': conda)",
   "name": "python3"
  },
  "language_info": {
   "codemirror_mode": {
    "name": "ipython",
    "version": 3
   },
   "file_extension": ".py",
   "mimetype": "text/x-python",
   "name": "python",
   "nbconvert_exporter": "python",
   "pygments_lexer": "ipython3",
   "version": "3.8.3"
  },
  "orig_nbformat": 4
 },
 "nbformat": 4,
 "nbformat_minor": 2
}